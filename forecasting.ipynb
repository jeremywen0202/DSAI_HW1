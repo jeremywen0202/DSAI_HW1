{
 "cells": [
  {
   "cell_type": "markdown",
   "metadata": {
    "slideshow": {
     "slide_type": "slide"
    }
   },
   "source": [
    "# DSAI\n",
    "###### tags: `DSAI`"
   ]
  },
  {
   "cell_type": "markdown",
   "metadata": {
    "slideshow": {
     "slide_type": "slide"
    }
   },
   "source": [
    "## HW1\n",
    "- 温承達\n",
    "- P76071145"
   ]
  },
  {
   "cell_type": "markdown",
   "metadata": {
    "slideshow": {
     "slide_type": "slide"
    }
   },
   "source": [
    "## Environment\n",
    "- Ubuntu 18.04.1 LTS (GNU/Linux 4.15.0-34-generic x86_64)\n",
    "- Python 3.6.7\n",
    "\n",
    "## Install Dependency\n",
    "- pip install -r requirements.txt"
   ]
  },
  {
   "cell_type": "markdown",
   "metadata": {
    "slideshow": {
     "slide_type": "slide"
    }
   },
   "source": [
    "## Files Structure\n",
    "\n",
    "```\n",
    ".\n",
    "+-- data\n",
    "|   +-- 2017.csv\n",
    "|   +-- 2018-19.csv\n",
    "+-- next_week_data\n",
    "|   +-- next_week.csv\n",
    "+-- requirements.txt\n",
    "+-- submission.csv\n",
    "+-- app.py\n",
    "```\n",
    "- `data/`: 台電過去電力供需資訊(從2017/01/01 - 2019/02/28)\n",
    "- `next_week_data/next_week.csv`: 台電未來一週電力供需預測\n",
    "- `requirements.txt`: python套件需求\n",
    "- `submission.csv`: 作業規定之'電力尖峰負載'預測檔案\n",
    "- `app.py`: 主程式"
   ]
  },
  {
   "cell_type": "markdown",
   "metadata": {
    "slideshow": {
     "slide_type": "slide"
    }
   },
   "source": [
    "## Data Exploration\n",
    "- 我使用台電公佈的過去電力供需資訊，有兩個檔案，一個包含2017-2018年的資料，一個包含2018-2019年的資料，由於2018年有重疊，因此我將其中一個2018年份資訊刪掉，得到`Data/2017.csv` 和 `Data/2018-19.csv` 兩個檔案，之後我發現資料欄位裡的中文字會造成在server上產生亂碼，導致無法執行程式，因此我將資料集裡的中文都先改成英文。"
   ]
  },
  {
   "cell_type": "markdown",
   "metadata": {
    "slideshow": {
     "slide_type": "slide"
    }
   },
   "source": [
    "## Feature Selection\n",
    "- 在台電公佈的電力資訊中，我認為`淨尖峰供電能力(MW)`應該會是一個很準確的feature，因為這是台電根據自身發電機組狀況、天氣、各種環境條件下，所評估出的應具備供電能力，所以，如果拿它來當training data應該會很準確。\n",
    "\n",
    "\n",
    "- 因此我將`Data/2018-19.csv`和`Data/2018-19.csv`中的`Power_Supply(MW)`欄位當作x_train、`Peak_Load(MW)`當作y_train。\n"
   ]
  },
  {
   "cell_type": "markdown",
   "metadata": {
    "slideshow": {
     "slide_type": "slide"
    }
   },
   "source": [
    "## Result\n",
    "- 將`Power_Supply(MW)`都讀進x_train、`Peak_Load(MW)`都讀進y_train後，我將它們轉成np.array，並使用`next_week_data/next_week.csv`(台電未來一週電力預測)中的'預估淨尖峰供電能力(萬瓩)'當作x_test(在程式碼中我命名為x_next)，並將'預估瞬時尖峰負載(萬瓩)'當作y_test(在程式碼中我命名為y_next)以進行驗證RMSE。\n",
    "\n",
    "\n",
    "- 接下來我嘗試了Linear Regression、SVM model中的各種kernel，發現若使用SVM model，kernel設為'poly'，且degree設為9時，平均的RMSE表現會最好，因此我最後是使用SVM model 參數設為：kernel='poly', max_iter=20000, gamma='scale', C=1.0, degree=9。"
   ]
  },
  {
   "cell_type": "code",
   "execution_count": null,
   "metadata": {
    "slideshow": {
     "slide_type": "slide"
    }
   },
   "outputs": [],
   "source": [
    "## My Code\n",
    "\n",
    "def warn(*args, **kwargs):    \n",
    "    pass\n",
    "import warnings\n",
    "warnings.warn = warn\n",
    "\n",
    "if __name__ == '__main__':\n",
    "    import numpy as np\n",
    "    import csv \n",
    "    import os.path\n",
    "    from sklearn import svm \n",
    "    from sklearn.metrics import mean_squared_error\n",
    "    from math import sqrt\n",
    "    \n",
    "    path = './data/'\n",
    "    x_train = []\n",
    "    y_train = []\n",
    "    \n",
    "    ##create x_train and y_train\n",
    "    for _, _, filenames in os.walk(path):  \n",
    "        for filename in filenames:\n",
    "            with open(path + filename, newline='') as csvfile:\n",
    "                rows = csv.DictReader(csvfile)\n",
    "    \n",
    "                for row in rows:\n",
    "                    x_train.append(float(row['Power_Supply(MW)']))\n",
    "                    y_train.append(float(row['Peak_Load(MW)']))\n",
    "\n",
    "    ##transform to np.array data type\n",
    "    x_train = np.array(x_train)    \n",
    "    y_train = np.array(y_train)\n",
    "    _x_train = x_train.reshape(-1, 1)\n",
    "    _y_train = y_train.reshape(-1, 1)\n",
    "\n",
    "    ##use SVM model to train data\n",
    "    clf = svm.SVC(kernel='poly', max_iter=20000, gamma='scale', C=1.0, degree=9)\n",
    "    clf.fit(_x_train, _y_train)\n",
    "\n",
    "    ##use ./next_week_data/next_week.csv data to predict\n",
    "    x_next = np.array([30560, 30560, 28140, 27060, 26970, 26930, 30600])\n",
    "    y_next = np.array([28700, 28600, 25700, 24600, 24300, 24500, 28500])\n",
    "    predict = clf.predict(x_next.reshape(-1, 1)) \n",
    "\n",
    "    ##write results to submission.csv\n",
    "    with open('submission.csv', 'w', newline='') as csvfile:\n",
    "        writer = csv.writer(csvfile)\n",
    "        writer.writerow(['date', 'peak_load(MW)'])\n",
    "        tmp = 0 \n",
    "        for i in range(402, 409):\n",
    "            writer.writerow( ['20190' + str(i), int(predict[tmp]) ])\n",
    "            tmp += 1\n",
    "\n",
    "    print('My predict of next week: ', predict)\n",
    "    print('         label:          ', y_next)\n",
    "    print('         RMSE:           ', sqrt(mean_squared_error(y_next, predict)))\n"
   ]
  },
  {
   "cell_type": "markdown",
   "metadata": {
    "slideshow": {
     "slide_type": "slide"
    }
   },
   "source": [
    "- 以下附上我的測試結果：\n",
    "\n",
    "```\n",
    "My predict of next week peak load(MW):\n",
    " [28631. 28631. 25377. 24722. 24509. 24617. 28602.]\n",
    "\n",
    "Label:\n",
    " [28700 28600 25700 24600 24300 24500 28500]\n",
    "\n",
    "RMSE:\n",
    " 165.92123776918115\n",
    "\n",
    "```"
   ]
  },
  {
   "cell_type": "markdown",
   "metadata": {
    "slideshow": {
     "slide_type": "slide"
    }
   },
   "source": [
    "## Authors\n",
    "[Cheng-Da Wen](https://github.com/jeremywen0202)"
   ]
  }
 ],
 "metadata": {
  "celltoolbar": "Slideshow",
  "kernelspec": {
   "display_name": "Python 3",
   "language": "python",
   "name": "python3"
  },
  "language_info": {
   "codemirror_mode": {
    "name": "ipython",
    "version": 3
   },
   "file_extension": ".py",
   "mimetype": "text/x-python",
   "name": "python",
   "nbconvert_exporter": "python",
   "pygments_lexer": "ipython3",
   "version": "3.6.7"
  }
 },
 "nbformat": 4,
 "nbformat_minor": 2
}
